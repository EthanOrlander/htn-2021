{
 "cells": [
  {
   "cell_type": "code",
   "execution_count": 4,
   "id": "4cfbf6d5",
   "metadata": {},
   "outputs": [],
   "source": [
    "from pathlib import Path\n",
    "import re\n",
    "import joblib\n",
    "import gmaps\n",
    "import googlemaps\n",
    "from dotenv import load_dotenv\n",
    "import googlemaps\n",
    "import ast"
   ]
  },
  {
   "cell_type": "code",
   "execution_count": 5,
   "id": "34371047",
   "metadata": {},
   "outputs": [],
   "source": [
    "load_dotenv()\n",
    "toronto_coord = (43.651070,-79.347015)\n",
    "gmaps.configure(api_key=os.environ[\"GOOGLE_API_KEY\"])\n",
    "\n",
    "origin = (43.660849, -79.295494) # 27 King's College Cir, Toronto, ON M5S\n",
    "dst = (43.64764,-79.398266) # 484 Richmond St W, Toronto, ON M5V 1Y2\n",
    "maps = googlemaps.Client(key=os.environ['GOOGLE_API_KEY'])\n",
    "figs = gmaps.figure(center=toronto_coord,zoom_level=11)"
   ]
  },
  {
   "cell_type": "code",
   "execution_count": 6,
   "id": "2ecf94b7",
   "metadata": {},
   "outputs": [],
   "source": [
    "def con_gps(addr):\n",
    "    import googlemaps\n",
    "    maps = googlemaps.Client(key=os.environ['GOOGLE_API_KEY'])\n",
    "    res = maps.geocode(addr)[0]\n",
    "    lat, long = res['geometry']['location'].values()\n",
    "    return float(lat), float(long)\n",
    "\n",
    "# Calculate Midpoint and Radius\n",
    "def calc_midpt_radius(latitude1, longitude1, latitude2, longitude2):\n",
    "    earth_radius = 3959*5280.0\n",
    "    \n",
    "    Lat1 = (latitude1)*(np.math.pi/180.0)\n",
    "    Long1 = (longitude1)*(np.math.pi/180.0)\n",
    "    Lat2 = (latitude2)*(np.math.pi/180.0)\n",
    "    Long2 = (longitude2)*(np.math.pi/180.0)\n",
    "    \n",
    "    dist = 2.0*earth_radius*np.arcsin(np.sqrt(np.power(np.math.sin((Lat2 - Lat1)/2.0),2.0)+np.math.cos(Lat1)*np.math.cos(Lat2)*np.power(np.math.sin((Long2 - Long1)/2.0),2.0)))\n",
    "    #dis = np.sqrt((Lat1-Lat2)**2 +(Long1-Long2)**2)\n",
    "    radius = dist/2.0\n",
    "    #radius = radius+100.0\n",
    "    \n",
    "    mid_lat = (latitude1+latitude2)/2.0\n",
    "    mid_long = (longitude1+longitude2)/2.0\n",
    "            \n",
    "    return mid_lat, mid_long, radius\n",
    "   # returns center coordinate and radius in ft (plus 100 ft)"
   ]
  },
  {
   "cell_type": "code",
   "execution_count": 109,
   "id": "39a2ffb8",
   "metadata": {},
   "outputs": [],
   "source": [
    "lat1, long1 = con_gps(\"27 King's College Cir, Toronto, ON M5S\")\n",
    "lat2, long2 = con_gps(\"235 Yonge St Toronto, ON M5B 1N8\")\n",
    "midlat, midlong, r = calc_midpt_radius(lat1, long1, lat2, long2)"
   ]
  },
  {
   "cell_type": "code",
   "execution_count": 110,
   "id": "c9b54152",
   "metadata": {},
   "outputs": [
    {
     "data": {
      "text/plain": [
       "(43.65759675, -79.38761160000001, 2395.190112742883)"
      ]
     },
     "execution_count": 110,
     "metadata": {},
     "output_type": "execute_result"
    }
   ],
   "source": [
    "midlat, midlong, r"
   ]
  },
  {
   "cell_type": "code",
   "execution_count": 111,
   "id": "d368ee9e",
   "metadata": {},
   "outputs": [],
   "source": [
    "res = maps.reverse_geocode((midlat, midlong))\n",
    "for item in res:\n",
    "    with open('output_loc.txt', 'a') as f:\n",
    "        f.write(f\"{item['geometry']['location']['lat']},{item['geometry']['location']['lng']}\\n\")"
   ]
  },
  {
   "cell_type": "code",
   "execution_count": 112,
   "id": "a6214be6",
   "metadata": {},
   "outputs": [
    {
     "data": {
      "text/plain": [
       "array([[  43.654304 ,  -79.3969122],\n",
       "       [  43.6543878,  -79.3969242],\n",
       "       [  43.654296 ,  -79.396791 ],\n",
       "       [  43.6541698,  -79.3967243],\n",
       "       [  43.6541982,  -79.3970905],\n",
       "       [  43.6543596,  -79.3973226],\n",
       "       [  43.6537341,  -79.3930124],\n",
       "       [  43.6532057,  -79.4000493],\n",
       "       [  43.6486795,  -79.3803231],\n",
       "       [  43.653226 ,  -79.3831843],\n",
       "       [  43.6689775,  -79.2902133],\n",
       "       [  51.253775 ,  -85.323214 ],\n",
       "       [  56.130366 , -106.346771 ],\n",
       "       [  43.654304 ,  -79.3969122],\n",
       "       [  43.6543878,  -79.3969242],\n",
       "       [  43.654296 ,  -79.396791 ],\n",
       "       [  43.6541698,  -79.3967243],\n",
       "       [  43.6541982,  -79.3970905],\n",
       "       [  43.6543596,  -79.3973226],\n",
       "       [  43.6537341,  -79.3930124],\n",
       "       [  43.6532057,  -79.4000493],\n",
       "       [  43.6486795,  -79.3803231],\n",
       "       [  43.653226 ,  -79.3831843],\n",
       "       [  43.6689775,  -79.2902133],\n",
       "       [  51.253775 ,  -85.323214 ],\n",
       "       [  56.130366 , -106.346771 ],\n",
       "       [  43.654304 ,  -79.3969122],\n",
       "       [  43.6576803,  -79.3878838],\n",
       "       [  43.6570966,  -79.3877247],\n",
       "       [  43.6578683,  -79.3879821],\n",
       "       [  43.6578485,  -79.388081 ],\n",
       "       [  43.6570957,  -79.3877344],\n",
       "       [  43.6603242,  -79.3937162],\n",
       "       [  43.6579524,  -79.3873826],\n",
       "       [  43.6548046,  -79.3883031],\n",
       "       [  43.6486795,  -79.3803231],\n",
       "       [  43.653226 ,  -79.3831843],\n",
       "       [  43.6689775,  -79.2902133],\n",
       "       [  51.253775 ,  -85.323214 ],\n",
       "       [  56.130366 , -106.346771 ],\n",
       "       [  43.6575968,  -79.3876116]])"
      ]
     },
     "execution_count": 112,
     "metadata": {},
     "output_type": "execute_result"
    }
   ],
   "source": [
    "s_loc_t = np.genfromtxt(\"./output_loc.txt\", delimiter=',', dtype=float)\n",
    "s_loc_t"
   ]
  },
  {
   "cell_type": "code",
   "execution_count": 113,
   "id": "d76adc40",
   "metadata": {},
   "outputs": [
    {
     "data": {
      "text/plain": [
       "array([[  43.660849 ,  -79.3954943],\n",
       "       [  43.654304 ,  -79.3969122],\n",
       "       [  43.6543878,  -79.3969242],\n",
       "       [  43.654296 ,  -79.396791 ],\n",
       "       [  43.6541698,  -79.3967243],\n",
       "       [  43.6541982,  -79.3970905],\n",
       "       [  43.6543596,  -79.3973226],\n",
       "       [  43.6537341,  -79.3930124],\n",
       "       [  43.6532057,  -79.4000493],\n",
       "       [  43.6486795,  -79.3803231],\n",
       "       [  43.653226 ,  -79.3831843],\n",
       "       [  43.6689775,  -79.2902133],\n",
       "       [  51.253775 ,  -85.323214 ],\n",
       "       [  56.130366 , -106.346771 ],\n",
       "       [  43.654304 ,  -79.3969122],\n",
       "       [  43.6543878,  -79.3969242],\n",
       "       [  43.654296 ,  -79.396791 ],\n",
       "       [  43.6541698,  -79.3967243],\n",
       "       [  43.6541982,  -79.3970905],\n",
       "       [  43.6543596,  -79.3973226],\n",
       "       [  43.6537341,  -79.3930124],\n",
       "       [  43.6532057,  -79.4000493],\n",
       "       [  43.6486795,  -79.3803231],\n",
       "       [  43.653226 ,  -79.3831843],\n",
       "       [  43.6689775,  -79.2902133],\n",
       "       [  51.253775 ,  -85.323214 ],\n",
       "       [  56.130366 , -106.346771 ],\n",
       "       [  43.654304 ,  -79.3969122],\n",
       "       [  43.6576803,  -79.3878838],\n",
       "       [  43.6570966,  -79.3877247],\n",
       "       [  43.6578683,  -79.3879821],\n",
       "       [  43.6578485,  -79.388081 ],\n",
       "       [  43.6570957,  -79.3877344],\n",
       "       [  43.6603242,  -79.3937162],\n",
       "       [  43.6579524,  -79.3873826],\n",
       "       [  43.6548046,  -79.3883031],\n",
       "       [  43.6486795,  -79.3803231],\n",
       "       [  43.653226 ,  -79.3831843],\n",
       "       [  43.6689775,  -79.2902133],\n",
       "       [  51.253775 ,  -85.323214 ],\n",
       "       [  56.130366 , -106.346771 ],\n",
       "       [  43.6575968,  -79.3876116],\n",
       "       [  43.6543445,  -79.3797289]])"
      ]
     },
     "execution_count": 113,
     "metadata": {},
     "output_type": "execute_result"
    }
   ],
   "source": [
    "s_loc = np.zeros((np.shape(s_loc_t)[0]+2, 2))\n",
    "s_loc[0,0]=lat1\n",
    "s_loc[0,1] = long1\n",
    "s_loc[1:-1, :] = s_loc_t[:, 0:2]\n",
    "s_loc[-1,0] = lat2\n",
    "s_loc[-1,1] = long2\n",
    "s_loc"
   ]
  },
  {
   "cell_type": "code",
   "execution_count": 114,
   "id": "ea6ad57b",
   "metadata": {},
   "outputs": [
    {
     "data": {
      "text/plain": [
       "[{'w': 0.12871855944038307,\n",
       "  'm': [43.76732144514967, -79.45472948868485],\n",
       "  's': [[0.00064723, 0.00224939], [0.00224939, 0.01114161]]},\n",
       " {'w': 0.17388597327363656,\n",
       "  'm': [43.70529930597177, -79.49724923503747],\n",
       "  's': [[0.00149265, 0.00037961], [0.00037961, 0.00278214]]},\n",
       " {'w': 0.19468116228540486,\n",
       "  'm': [43.716764753044565, -79.27642642511333],\n",
       "  's': [[0.00134813, 0.00168437], [0.00168437, 0.00292432]]},\n",
       " {'w': 0.10139717310898705,\n",
       "  'm': [43.77751635130634, -79.26537783596987],\n",
       "  's': [[0.00058834, 0.0004414], [0.0004414, 0.00322054]]},\n",
       " {'w': 0.1364843910303939,\n",
       "  'm': [43.6634446067023, -79.44688986029712],\n",
       "  's': [[0.00159994, 0.00187149], [0.00187149, 0.00305711]]},\n",
       " {'w': 0.26483274086119457,\n",
       "  'm': [43.655643346822295, -79.38622062572544],\n",
       "  's': [[0.000124694869, 9.48585435e-05], [9.48585435e-05, 0.000421826714]]}]"
      ]
     },
     "execution_count": 114,
     "metadata": {},
     "output_type": "execute_result"
    }
   ],
   "source": [
    "weights = []\n",
    "for f in Path(\"./models\").iterdir():\n",
    "    with f.open('r') as f:\n",
    "        v1,v2,v3 = f.read().split(\"\\n\", maxsplit=2)\n",
    "        v1 = float(v1)\n",
    "        v2 = [float(x) for x in v2.strip(\"][\").split(',')]\n",
    "        v3 = v3.replace(\"\\n\", '').strip(\" \").replace(\" \",\",\")\n",
    "        # print(v3)\n",
    "        v3 = ast.literal_eval(v3)\n",
    "        weights.append({\"w\":v1,\"m\":v2,\"s\": v3})\n",
    "weights"
   ]
  },
  {
   "cell_type": "code",
   "execution_count": 115,
   "id": "34a82dfa",
   "metadata": {},
   "outputs": [],
   "source": [
    "def mvg(w,m,s,x):\n",
    "    a = 1.0/(np.sqrt(((2*np.pi)**2)*np.linalg.det(s)))\n",
    "    b=x-m\n",
    "    c=np.dot(np.dot(b.T, np.linalg.inv(s)),b)\n",
    "    return w*a*np.exp(-0.5*c)"
   ]
  },
  {
   "cell_type": "code",
   "execution_count": 116,
   "id": "ace2544d",
   "metadata": {},
   "outputs": [],
   "source": [
    "num = np.shape(s_loc)[0]\n",
    "g=np.zeros(num)\n",
    "d=np.zeros((num,num))"
   ]
  },
  {
   "cell_type": "code",
   "execution_count": 117,
   "id": "84356fc2",
   "metadata": {},
   "outputs": [],
   "source": [
    "def dist(Lat1,Long1,Lat2,Long2):\n",
    "    earth_radius = 3959*5280.0\n",
    "\n",
    "    Lat1 = (Lat1)*(np.math.pi/180.0)\n",
    "    Long1 = (Long1)*(np.math.pi/180.0)\n",
    "    Lat2 = (Lat2)*(np.math.pi/180.0)\n",
    "    Long2 = (Long2)*(np.math.pi/180.0)\n",
    "\n",
    "    return 2.0*earth_radius*np.arcsin(np.sqrt(np.power(np.math.sin((Lat2-Lat1)/2.0),2.0)+np.math.cos(Lat1)*np.math.cos(Lat2)*np.power(np.math.sin((Long2 - Long1)/2.0),2.0)))\n",
    "\n",
    "def checkPath(path_list, dist_list):\n",
    "    l = np.argsort(dist_list)[0]\n",
    "    if len(dist_list)==1 and dist_list[0] in path_list:\n",
    "        return path_list\n",
    "    else:\n",
    "        if l in dist_list:\n",
    "            return checkPath(path_list, np.argsort(dist_list)[1:])\n",
    "        else:\n",
    "            path_list.append(l)\n",
    "            return path_list"
   ]
  },
  {
   "cell_type": "code",
   "execution_count": 118,
   "id": "94ac720b",
   "metadata": {},
   "outputs": [],
   "source": [
    "idx = []\n",
    "done = []\n",
    "count = 0\n",
    "\n",
    "for i, locs in enumerate(s_loc):\n",
    "    s = 0\n",
    "    for c in weights:\n",
    "        globals()[f\"g{i}\"]=mvg(x=locs, **c)\n",
    "        s+= globals()[f\"g{i}\"]\n",
    "    g[i] = s\n",
    "    for j in range(0, np.shape(s_loc)[0]):\n",
    "        d[i,j] = dist(locs[0], locs[1], s_loc[j,0],s_loc[j,1])\n",
    "        if d[i,j] ==0:\n",
    "            d[i,j]=np.nan\n"
   ]
  },
  {
   "cell_type": "code",
   "execution_count": 119,
   "id": "f03b0a82",
   "metadata": {},
   "outputs": [],
   "source": [
    "d_sort = np.argsort(d, axis=1)\n",
    "g3 = np.zeros((num, 3))\n",
    "for j in range(0, num):\n",
    "    g3[j,:]=g[d_sort[j,0:3]]"
   ]
  },
  {
   "cell_type": "code",
   "execution_count": 120,
   "id": "cd37820f",
   "metadata": {},
   "outputs": [],
   "source": [
    "path = []\n",
    "for M in g3:\n",
    "    path = checkPath(path, M)\n",
    "for m in path:\n",
    "    for n in range(0, num):\n",
    "        if g3[m][m] == g[n]:\n",
    "            idx.append(n)\n",
    "            break"
   ]
  },
  {
   "cell_type": "code",
   "execution_count": 121,
   "id": "855bb5a2",
   "metadata": {},
   "outputs": [],
   "source": [
    "for i in idx:\n",
    "    with Path(\"./res.txt\").open('w') as f:\n",
    "        f.write(f\"{str(s_loc[i,0])},{str(s_loc[i,1])}\\n\")\n",
    "        f.write(f\"{str(lat2)},{str(long2)}\\n\")"
   ]
  },
  {
   "cell_type": "code",
   "execution_count": 122,
   "id": "8e5c00b3",
   "metadata": {},
   "outputs": [
    {
     "name": "stdout",
     "output_type": "stream",
     "text": [
      "43.6603242,-79.3937162\r\n",
      "43.65434450000001,-79.37972890000002\r\n"
     ]
    }
   ],
   "source": [
    "!cat res.txt"
   ]
  },
  {
   "cell_type": "markdown",
   "id": "861417e9",
   "metadata": {},
   "source": [
    "---"
   ]
  },
  {
   "cell_type": "code",
   "execution_count": 106,
   "id": "241aa0f5",
   "metadata": {},
   "outputs": [],
   "source": [
    "df = pd.read_csv('data/assault_lat_long.csv')\n",
    "loc = list(df.to_records(index=False))\n",
    "\n",
    "heatmap = gmaps.heatmap_layer(loc)\n",
    "directions = gmaps.directions_layer((str(s_loc[i,0]), str(s_loc[i,1])), (str(lat2), str(long2)), travel_mode='WALKING')"
   ]
  },
  {
   "cell_type": "code",
   "execution_count": 123,
   "id": "79bf8544",
   "metadata": {},
   "outputs": [],
   "source": [
    "figs.add_layer(gmaps.directions_layer((lat1,long1), (lat2, long2), travel_mode='WALKING'))"
   ]
  },
  {
   "cell_type": "code",
   "execution_count": 107,
   "id": "8e2c9592",
   "metadata": {},
   "outputs": [],
   "source": [
    "figs.add_layer(gmaps.heatmap_layer(loc))\n",
    "figs.add_layer(gmaps.directions_layer((lat1,long1), (lat2, long2), travel_mode='WALKING'))"
   ]
  },
  {
   "cell_type": "code",
   "execution_count": 124,
   "id": "01c53152",
   "metadata": {
    "scrolled": false
   },
   "outputs": [
    {
     "data": {
      "application/vnd.jupyter.widget-view+json": {
       "model_id": "eaace1b25a304cdaab6f3ec03df0cbf5",
       "version_major": 2,
       "version_minor": 0
      },
      "text/plain": [
       "Figure(layout=FigureLayout(height='420px'))"
      ]
     },
     "metadata": {},
     "output_type": "display_data"
    }
   ],
   "source": [
    "figs"
   ]
  },
  {
   "cell_type": "markdown",
   "id": "f0c86093",
   "metadata": {},
   "source": [
    "---"
   ]
  },
  {
   "cell_type": "code",
   "execution_count": null,
   "id": "6bd06a2d",
   "metadata": {},
   "outputs": [],
   "source": [
    "kept = ['offence', 'Neighbourhood', 'Long', 'Lat']\n",
    "data = pd.read_csv(\"data/Assault.csv\")\n",
    "data.head()"
   ]
  },
  {
   "cell_type": "code",
   "execution_count": null,
   "id": "c969149c",
   "metadata": {},
   "outputs": [],
   "source": [
    "data = data[data['occurrenceyear']>=2017]\n",
    "# data = data[data.offence.str.contains('Assault')]\n",
    "data = data[~data.offence.str.contains(\"Weapon\")]"
   ]
  },
  {
   "cell_type": "code",
   "execution_count": null,
   "id": "c4e3fa4d",
   "metadata": {},
   "outputs": [],
   "source": [
    "finals = data.loc[:, kept]\n",
    "finals"
   ]
  },
  {
   "cell_type": "code",
   "execution_count": null,
   "id": "39e7030f",
   "metadata": {},
   "outputs": [],
   "source": [
    "finals.offence.unique()"
   ]
  },
  {
   "cell_type": "code",
   "execution_count": null,
   "id": "ee0fd4f4",
   "metadata": {},
   "outputs": [],
   "source": [
    "fin = finals.loc[finals['offence'].isin(['Assault', 'Aggravated Assault','Assault Bodily Harm','Assault - Resist/ Prevent Seiz','Assault - Force/Thrt/Impede','Crim Negligence Bodily Harm','Unlawfully Causing Bodily Harm'])]\n",
    "fin.offence.unique()"
   ]
  },
  {
   "cell_type": "code",
   "execution_count": null,
   "id": "d55f3bf8",
   "metadata": {},
   "outputs": [],
   "source": [
    "fin.info()"
   ]
  },
  {
   "cell_type": "code",
   "execution_count": null,
   "id": "08beba68",
   "metadata": {},
   "outputs": [],
   "source": [
    "plt.scatter(fin['Lat'], fin['Long'])\n",
    "plt.colorbar()\n",
    "plt.show()"
   ]
  },
  {
   "cell_type": "code",
   "execution_count": null,
   "id": "d872b041",
   "metadata": {},
   "outputs": [],
   "source": [
    "latlong = fin[['Lat', 'Long']]"
   ]
  },
  {
   "cell_type": "code",
   "execution_count": null,
   "id": "b8c6a24c",
   "metadata": {},
   "outputs": [],
   "source": [
    "latlong.to_csv(\"data/assault_lat_long.csv\", index=False, header=False)"
   ]
  },
  {
   "cell_type": "markdown",
   "id": "59f0fc90",
   "metadata": {},
   "source": [
    "---"
   ]
  },
  {
   "cell_type": "code",
   "execution_count": null,
   "id": "2565778b",
   "metadata": {},
   "outputs": [],
   "source": []
  },
  {
   "cell_type": "code",
   "execution_count": null,
   "id": "a02abe62",
   "metadata": {},
   "outputs": [],
   "source": []
  },
  {
   "cell_type": "code",
   "execution_count": null,
   "id": "f775512d",
   "metadata": {},
   "outputs": [],
   "source": [
    "from pyspark import SparkContext\n",
    "sc = SparkContext()"
   ]
  },
  {
   "cell_type": "code",
   "execution_count": null,
   "id": "e387dfc3",
   "metadata": {},
   "outputs": [],
   "source": [
    "from pyspark.mllib.clustering import GaussianMixture"
   ]
  },
  {
   "cell_type": "code",
   "execution_count": null,
   "id": "e0d5dcc7",
   "metadata": {},
   "outputs": [],
   "source": [
    "data = sc.textFile(\"./data/assault_lat_long.csv\")"
   ]
  },
  {
   "cell_type": "code",
   "execution_count": null,
   "id": "4d6b6cc5",
   "metadata": {},
   "outputs": [],
   "source": [
    "parsed = data.map(lambda line: np.array([float(x) for x in line.strip().split(',')]))\n",
    "l=6"
   ]
  },
  {
   "cell_type": "code",
   "execution_count": null,
   "id": "71bca264",
   "metadata": {},
   "outputs": [],
   "source": [
    "gmm = GaussianMixture.train(parsed, l)"
   ]
  },
  {
   "cell_type": "code",
   "execution_count": null,
   "id": "fa84bd38",
   "metadata": {},
   "outputs": [],
   "source": [
    "for j in range(0,l):\n",
    "    with open(f\"./models/gmm.txt\", 'a+') as f:\n",
    "        f.write(str(gmm.weights[j])+\"\\n\")\n",
    "        f.write(str(gmm.gaussians[j].mu) + \"\\n\")\n",
    "        f.write(str(gmm.gaussians[j].sigma.toArray())+'\\n')"
   ]
  },
  {
   "cell_type": "code",
   "execution_count": null,
   "id": "c7340b5d",
   "metadata": {},
   "outputs": [],
   "source": [
    "!cat ./models/gmm_4.txt"
   ]
  },
  {
   "cell_type": "code",
   "execution_count": null,
   "id": "922cda8b",
   "metadata": {},
   "outputs": [],
   "source": [
    "!cat ./models/gmm.txt"
   ]
  },
  {
   "cell_type": "code",
   "execution_count": null,
   "id": "a08f3df6",
   "metadata": {},
   "outputs": [],
   "source": [
    "from sklearn.preprocessing import StandardScaler\n",
    "\n",
    "sc_X = StandardScaler()\n",
    "X = sc_X.fit_transform(df.values)"
   ]
  },
  {
   "cell_type": "code",
   "execution_count": null,
   "id": "bcae1e9b",
   "metadata": {},
   "outputs": [],
   "source": [
    "# Using the elbow method to find the optimal number of clusters\n",
    "from sklearn.cluster import KMeans\n",
    "wcss = []\n",
    "for i in range(1, 10):\n",
    "    kmeans = KMeans(n_clusters = i, init = 'k-means++', random_state = 42)\n",
    "    kmeans.fit(X)\n",
    "    wcss.append(kmeans.inertia_)\n",
    "plt.plot(range(1, 10), wcss)\n",
    "plt.title('The Elbow Method')\n",
    "plt.xlabel('Number of clusters')\n",
    "plt.ylabel('WCSS')\n",
    "plt.show()"
   ]
  },
  {
   "cell_type": "code",
   "execution_count": null,
   "id": "39f8258a",
   "metadata": {},
   "outputs": [],
   "source": [
    "# Fitting K-Means to the dataset\n",
    "kmeans = KMeans(n_clusters = 3, init = 'k-means++', random_state = 42)\n",
    "y_kmeans = kmeans.fit_predict(X)\n",
    "\n",
    "joblib.dump(kmeans, \"models/kmeans.pkl\")"
   ]
  },
  {
   "cell_type": "code",
   "execution_count": null,
   "id": "ebebc00d",
   "metadata": {},
   "outputs": [],
   "source": []
  },
  {
   "cell_type": "code",
   "execution_count": null,
   "id": "d8eb771a",
   "metadata": {},
   "outputs": [],
   "source": []
  },
  {
   "cell_type": "code",
   "execution_count": null,
   "id": "f3d80152",
   "metadata": {},
   "outputs": [],
   "source": []
  },
  {
   "cell_type": "code",
   "execution_count": null,
   "id": "5af381ee",
   "metadata": {},
   "outputs": [],
   "source": []
  },
  {
   "cell_type": "code",
   "execution_count": null,
   "id": "5fe422f5",
   "metadata": {},
   "outputs": [],
   "source": [
    "from sklearn.decomposition import KernelPCA\n",
    "kpca = KernelPCA(n_components = 2, kernel = 'rbf')\n",
    "X = kpca.fit_transform(X)"
   ]
  },
  {
   "cell_type": "code",
   "execution_count": null,
   "id": "cccb35d1",
   "metadata": {},
   "outputs": [],
   "source": [
    "plt.scatter(X[y_kmeans == 0, 0], X[y_kmeans == 0, 1], s = 100, c = 'red')\n",
    "plt.scatter(X[y_kmeans == 1, 0], X[y_kmeans == 1, 1], s = 100, c = 'blue')\n",
    "plt.scatter(X[y_kmeans == 2, 0], X[y_kmeans == 2, 1], s = 100, c = 'green')\n",
    "plt.scatter(X[y_kmeans == 3, 0], X[y_kmeans == 3, 1], s = 100, c = 'cyan')\n",
    "plt.scatter(X[y_kmeans == 4, 0], X[y_kmeans == 4, 1], s = 100, c = 'magenta' )\n",
    "plt.scatter(X[y_kmeans == 5, 0], X[y_kmeans == 5, 1], s = 100, c = 'black' )\n",
    "\n",
    "\n",
    "\n",
    "plt.scatter(kmeans.cluster_centers_[:, 0], kmeans.cluster_centers_[:, 1], s = 300, c = 'yellow', label = 'Centroids')\n",
    "plt.title('Clusters of areas')\n",
    "plt.xlabel('factor1')\n",
    "plt.ylabel('factor2')\n",
    "plt.legend()\n",
    "plt.show()"
   ]
  },
  {
   "cell_type": "code",
   "execution_count": null,
   "id": "daf8b113",
   "metadata": {},
   "outputs": [],
   "source": []
  },
  {
   "cell_type": "code",
   "execution_count": null,
   "id": "01a03dcf",
   "metadata": {},
   "outputs": [],
   "source": []
  }
 ],
 "metadata": {
  "kernelspec": {
   "display_name": "Python 3 (ipykernel)",
   "language": "python",
   "name": "python3"
  },
  "language_info": {
   "codemirror_mode": {
    "name": "ipython",
    "version": 3
   },
   "file_extension": ".py",
   "mimetype": "text/x-python",
   "name": "python",
   "nbconvert_exporter": "python",
   "pygments_lexer": "ipython3",
   "version": "3.8.8"
  }
 },
 "nbformat": 4,
 "nbformat_minor": 5
}
