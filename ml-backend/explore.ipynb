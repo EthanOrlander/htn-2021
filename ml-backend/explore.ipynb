{
 "cells": [
  {
   "cell_type": "code",
   "execution_count": 53,
   "id": "34371047",
   "metadata": {},
   "outputs": [],
   "source": [
    "import joblib\n",
    "import gmaps\n",
    "from dotenv import load_dotenv\n",
    "load_dotenv()\n",
    "toronto_coord = (43.651070,-79.347015)\n",
    "gmaps.configure(api_key=os.environ[\"GOOGLE_API_KEY\"])\n",
    "\n",
    "origin = (43.660849, -79.295494) # 27 King's College Cir, Toronto, ON M5S\n",
    "dst = (43.64764,-79.398266) # 484 Richmond St W, Toronto, ON M5V 1Y2\n",
    "maps = googlemaps.Client(key=os.environ['GOOGLE_API_KEY'])\n",
    "figs = gmaps.figure(center=toronto_coord,zoom_level=11)"
   ]
  },
  {
   "cell_type": "code",
   "execution_count": 25,
   "id": "dd8a602e",
   "metadata": {},
   "outputs": [],
   "source": [
    "def con_gps(addr):\n",
    "    import googlemaps\n",
    "    maps = googlemaps.Client(key=os.environ['GOOGLE_API_KEY'])\n",
    "    res = maps.geocode(addr)[0]\n",
    "    lat, long = res['geometry']['location'].values()\n",
    "    return float(lat), float(long)\n",
    "\n",
    "# Calculate Midpoint and Radius\n",
    "def calc_midpt_radius(latitude1, longitude1, latitude2, longitude2):\n",
    "    earth_radius = 3959*5280.0\n",
    "    \n",
    "    Lat1 = (latitude1)*(np.math.pi/180.0)\n",
    "    Long1 = (longitude1)*(np.math.pi/180.0)\n",
    "    Lat2 = (latitude2)*(np.math.pi/180.0)\n",
    "    Long2 = (longitude2)*(np.math.pi/180.0)\n",
    "    \n",
    "    dist = 2.0*earth_radius*np.arcsin(np.sqrt(np.power(np.math.sin((Lat2 - Lat1)/2.0),2.0)+np.math.cos(Lat1)*np.math.cos(Lat2)*np.power(np.math.sin((Long2 - Long1)/2.0),2.0)))\n",
    "    #dis = np.sqrt((Lat1-Lat2)**2 +(Long1-Long2)**2)\n",
    "    radius = dist/2.0\n",
    "    #radius = radius+100.0\n",
    "    \n",
    "    mid_lat = (latitude1+latitude2)/2.0\n",
    "    mid_long = (longitude1+longitude2)/2.0\n",
    "            \n",
    "    return mid_lat, mid_long, radius\n",
    "   # returns center coordinate and radius in ft (plus 100 ft)"
   ]
  },
  {
   "cell_type": "code",
   "execution_count": 28,
   "id": "451fba23",
   "metadata": {},
   "outputs": [],
   "source": [
    "lat1, long1 = con_gps(\"27 King's College Cir, Toronto, ON M5S\")\n",
    "lat2, long2 = con_gps(\"484 Richmond St W, Toronto, ON M5V 1Y2\")\n",
    "midlat, midlong, r = calc_midpt_radius(lat1, long1, lat2, long2)"
   ]
  },
  {
   "cell_type": "code",
   "execution_count": 35,
   "id": "dfad9dd0",
   "metadata": {},
   "outputs": [
    {
     "data": {
      "text/plain": [
       "(43.65430404999999, -79.39691214999999, 2416.981016102055)"
      ]
     },
     "execution_count": 35,
     "metadata": {},
     "output_type": "execute_result"
    }
   ],
   "source": [
    "midlat, midlong, r"
   ]
  },
  {
   "cell_type": "code",
   "execution_count": 49,
   "id": "a3e0c40d",
   "metadata": {},
   "outputs": [],
   "source": [
    "res = maps.reverse_geocode((midlat, midlong))\n",
    "for item in res:\n",
    "    with open('output_loc.txt', 'a') as f:\n",
    "        f.write(f\"{item['geometry']['location']['lat']},{item['geometry']['location']['lng']}\\n\")"
   ]
  },
  {
   "cell_type": "code",
   "execution_count": 60,
   "id": "95be57da",
   "metadata": {},
   "outputs": [
    {
     "data": {
      "text/plain": [
       "array([[  43.654304 ,  -79.3969122],\n",
       "       [  43.6543878,  -79.3969242],\n",
       "       [  43.654296 ,  -79.396791 ],\n",
       "       [  43.6541698,  -79.3967243],\n",
       "       [  43.6541982,  -79.3970905],\n",
       "       [  43.6543596,  -79.3973226],\n",
       "       [  43.6537341,  -79.3930124],\n",
       "       [  43.6532057,  -79.4000493],\n",
       "       [  43.6486795,  -79.3803231],\n",
       "       [  43.653226 ,  -79.3831843],\n",
       "       [  43.6689775,  -79.2902133],\n",
       "       [  51.253775 ,  -85.323214 ],\n",
       "       [  56.130366 , -106.346771 ],\n",
       "       [  43.654304 ,  -79.3969122]])"
      ]
     },
     "execution_count": 60,
     "metadata": {},
     "output_type": "execute_result"
    }
   ],
   "source": [
    "s_loc_t = np.genfromtxt(\"./output_loc.txt\", delimiter=',', dtype=float)\n",
    "s_loc_t"
   ]
  },
  {
   "cell_type": "code",
   "execution_count": 61,
   "id": "023bec03",
   "metadata": {},
   "outputs": [
    {
     "name": "stdout",
     "output_type": "stream",
     "text": [
      "43.654304,-79.3969122\r\n",
      "43.65438779999999,-79.3969242\r\n",
      "43.654296,-79.396791\r\n",
      "43.6541698,-79.3967243\r\n",
      "43.6541982,-79.39709049999999\r\n",
      "43.6543596,-79.3973226\r\n",
      "43.6537341,-79.3930124\r\n",
      "43.6532057,-79.40004929999999\r\n",
      "43.6486795,-79.3803231\r\n",
      "43.653226,-79.3831843\r\n",
      "43.6689775,-79.29021329999999\r\n",
      "51.253775,-85.323214\r\n",
      "56.130366,-106.346771\r\n",
      "43.654304,-79.3969122\r\n",
      "0.2994272775495866\r\n",
      "[43.74629864304019,-79.27166193648964]\r\n",
      "[[0.00172539 0.00115345]\r\n",
      " [0.00115345 0.00339242]]\r\n"
     ]
    }
   ],
   "source": [
    "!cat ./output_loc.txt ./models/gmm.txt"
   ]
  },
  {
   "cell_type": "code",
   "execution_count": 56,
   "id": "d712bfc5",
   "metadata": {},
   "outputs": [],
   "source": [
    "df = pd.read_csv('data/assault_lat_long.csv')\n",
    "loc = list(df.to_records(index=False))"
   ]
  },
  {
   "cell_type": "code",
   "execution_count": 57,
   "id": "98e9b0c4",
   "metadata": {},
   "outputs": [],
   "source": [
    "figs.add_layer(gmaps.heatmap_layer(loc))\n",
    "figs.add_layer(gmaps.directions_layer((lat1,long1), (lat2, long2), travel_mode='WALKING'))"
   ]
  },
  {
   "cell_type": "code",
   "execution_count": 58,
   "id": "ac30ad10",
   "metadata": {
    "scrolled": false
   },
   "outputs": [
    {
     "data": {
      "application/vnd.jupyter.widget-view+json": {
       "model_id": "69e5d3efe39c4bea9bdf4779b94b3ceb",
       "version_major": 2,
       "version_minor": 0
      },
      "text/plain": [
       "Figure(layout=FigureLayout(height='420px'))"
      ]
     },
     "metadata": {},
     "output_type": "display_data"
    }
   ],
   "source": [
    "figs"
   ]
  },
  {
   "cell_type": "markdown",
   "id": "95685739",
   "metadata": {},
   "source": [
    "---"
   ]
  },
  {
   "cell_type": "code",
   "execution_count": 2,
   "id": "6bd06a2d",
   "metadata": {},
   "outputs": [
    {
     "name": "stderr",
     "output_type": "stream",
     "text": [
      "/home/aarnphm/.pyenv/versions/3.8.8/lib/python3.8/site-packages/IPython/core/interactiveshell.py:3169: DtypeWarning: Columns (24) have mixed types.Specify dtype option on import or set low_memory=False.\n",
      "  has_raised = await self.run_ast_nodes(code_ast.body, cell_name,\n"
     ]
    },
    {
     "data": {
      "text/html": [
       "<div>\n",
       "<style scoped>\n",
       "    .dataframe tbody tr th:only-of-type {\n",
       "        vertical-align: middle;\n",
       "    }\n",
       "\n",
       "    .dataframe tbody tr th {\n",
       "        vertical-align: top;\n",
       "    }\n",
       "\n",
       "    .dataframe thead th {\n",
       "        text-align: right;\n",
       "    }\n",
       "</style>\n",
       "<table border=\"1\" class=\"dataframe\">\n",
       "  <thead>\n",
       "    <tr style=\"text-align: right;\">\n",
       "      <th></th>\n",
       "      <th>X</th>\n",
       "      <th>Y</th>\n",
       "      <th>Index_</th>\n",
       "      <th>event_unique_id</th>\n",
       "      <th>Division</th>\n",
       "      <th>occurrencedate</th>\n",
       "      <th>reporteddate</th>\n",
       "      <th>premises_type</th>\n",
       "      <th>ucr_code</th>\n",
       "      <th>ucr_ext</th>\n",
       "      <th>offence</th>\n",
       "      <th>reportedyear</th>\n",
       "      <th>reportedmonth</th>\n",
       "      <th>reportedday</th>\n",
       "      <th>reporteddayofyear</th>\n",
       "      <th>reporteddayofweek</th>\n",
       "      <th>reportedhour</th>\n",
       "      <th>occurrenceyear</th>\n",
       "      <th>occurrencemonth</th>\n",
       "      <th>occurrenceday</th>\n",
       "      <th>occurrencedayofyear</th>\n",
       "      <th>occurrencedayofweek</th>\n",
       "      <th>occurrencehour</th>\n",
       "      <th>MCI</th>\n",
       "      <th>Hood_ID</th>\n",
       "      <th>Neighbourhood</th>\n",
       "      <th>Long</th>\n",
       "      <th>Lat</th>\n",
       "      <th>ObjectId</th>\n",
       "    </tr>\n",
       "  </thead>\n",
       "  <tbody>\n",
       "    <tr>\n",
       "      <th>0</th>\n",
       "      <td>-8.862342e+06</td>\n",
       "      <td>5.424014e+06</td>\n",
       "      <td>40118</td>\n",
       "      <td>GO-2015910621</td>\n",
       "      <td>D23</td>\n",
       "      <td>2015/05/31 15:42:00+00</td>\n",
       "      <td>2015/05/31 15:42:00+00</td>\n",
       "      <td>Apartment</td>\n",
       "      <td>1420</td>\n",
       "      <td>100</td>\n",
       "      <td>Assault With Weapon</td>\n",
       "      <td>2015</td>\n",
       "      <td>May</td>\n",
       "      <td>31</td>\n",
       "      <td>151</td>\n",
       "      <td>Sunday</td>\n",
       "      <td>15</td>\n",
       "      <td>2015.0</td>\n",
       "      <td>May</td>\n",
       "      <td>31.0</td>\n",
       "      <td>151.0</td>\n",
       "      <td>Sunday</td>\n",
       "      <td>15</td>\n",
       "      <td>Assault</td>\n",
       "      <td>1</td>\n",
       "      <td>West Humber-Clairville (1)</td>\n",
       "      <td>-79.611774</td>\n",
       "      <td>43.731689</td>\n",
       "      <td>1</td>\n",
       "    </tr>\n",
       "    <tr>\n",
       "      <th>1</th>\n",
       "      <td>-8.861463e+06</td>\n",
       "      <td>5.425856e+06</td>\n",
       "      <td>40344</td>\n",
       "      <td>GO-2015928800</td>\n",
       "      <td>D23</td>\n",
       "      <td>2015/06/03 12:38:00+00</td>\n",
       "      <td>2015/06/03 12:39:00+00</td>\n",
       "      <td>Commercial</td>\n",
       "      <td>1420</td>\n",
       "      <td>100</td>\n",
       "      <td>Assault With Weapon</td>\n",
       "      <td>2015</td>\n",
       "      <td>June</td>\n",
       "      <td>3</td>\n",
       "      <td>154</td>\n",
       "      <td>Wednesday</td>\n",
       "      <td>12</td>\n",
       "      <td>2015.0</td>\n",
       "      <td>June</td>\n",
       "      <td>3.0</td>\n",
       "      <td>154.0</td>\n",
       "      <td>Wednesday</td>\n",
       "      <td>12</td>\n",
       "      <td>Assault</td>\n",
       "      <td>1</td>\n",
       "      <td>West Humber-Clairville (1)</td>\n",
       "      <td>-79.603876</td>\n",
       "      <td>43.743642</td>\n",
       "      <td>2</td>\n",
       "    </tr>\n",
       "    <tr>\n",
       "      <th>2</th>\n",
       "      <td>-8.857188e+06</td>\n",
       "      <td>5.420543e+06</td>\n",
       "      <td>40348</td>\n",
       "      <td>GO-2015929386</td>\n",
       "      <td>D23</td>\n",
       "      <td>2015/05/27 16:00:00+00</td>\n",
       "      <td>2015/06/03 14:11:00+00</td>\n",
       "      <td>Other</td>\n",
       "      <td>1430</td>\n",
       "      <td>100</td>\n",
       "      <td>Assault</td>\n",
       "      <td>2015</td>\n",
       "      <td>June</td>\n",
       "      <td>3</td>\n",
       "      <td>154</td>\n",
       "      <td>Wednesday</td>\n",
       "      <td>14</td>\n",
       "      <td>2015.0</td>\n",
       "      <td>May</td>\n",
       "      <td>27.0</td>\n",
       "      <td>147.0</td>\n",
       "      <td>Wednesday</td>\n",
       "      <td>16</td>\n",
       "      <td>Assault</td>\n",
       "      <td>1</td>\n",
       "      <td>West Humber-Clairville (1)</td>\n",
       "      <td>-79.565476</td>\n",
       "      <td>43.709154</td>\n",
       "      <td>3</td>\n",
       "    </tr>\n",
       "    <tr>\n",
       "      <th>3</th>\n",
       "      <td>-8.861665e+06</td>\n",
       "      <td>5.423589e+06</td>\n",
       "      <td>40371</td>\n",
       "      <td>GO-2015930623</td>\n",
       "      <td>D23</td>\n",
       "      <td>2015/06/03 17:35:00+00</td>\n",
       "      <td>2015/06/03 17:37:00+00</td>\n",
       "      <td>Outside</td>\n",
       "      <td>1410</td>\n",
       "      <td>100</td>\n",
       "      <td>Aggravated Assault</td>\n",
       "      <td>2015</td>\n",
       "      <td>June</td>\n",
       "      <td>3</td>\n",
       "      <td>154</td>\n",
       "      <td>Wednesday</td>\n",
       "      <td>17</td>\n",
       "      <td>2015.0</td>\n",
       "      <td>June</td>\n",
       "      <td>3.0</td>\n",
       "      <td>154.0</td>\n",
       "      <td>Wednesday</td>\n",
       "      <td>17</td>\n",
       "      <td>Assault</td>\n",
       "      <td>1</td>\n",
       "      <td>West Humber-Clairville (1)</td>\n",
       "      <td>-79.605691</td>\n",
       "      <td>43.728929</td>\n",
       "      <td>4</td>\n",
       "    </tr>\n",
       "    <tr>\n",
       "      <th>4</th>\n",
       "      <td>-8.861665e+06</td>\n",
       "      <td>5.423589e+06</td>\n",
       "      <td>40372</td>\n",
       "      <td>GO-2015930623</td>\n",
       "      <td>D23</td>\n",
       "      <td>2015/06/03 17:35:00+00</td>\n",
       "      <td>2015/06/03 17:37:00+00</td>\n",
       "      <td>Outside</td>\n",
       "      <td>1420</td>\n",
       "      <td>100</td>\n",
       "      <td>Assault With Weapon</td>\n",
       "      <td>2015</td>\n",
       "      <td>June</td>\n",
       "      <td>3</td>\n",
       "      <td>154</td>\n",
       "      <td>Wednesday</td>\n",
       "      <td>17</td>\n",
       "      <td>2015.0</td>\n",
       "      <td>June</td>\n",
       "      <td>3.0</td>\n",
       "      <td>154.0</td>\n",
       "      <td>Wednesday</td>\n",
       "      <td>17</td>\n",
       "      <td>Assault</td>\n",
       "      <td>1</td>\n",
       "      <td>West Humber-Clairville (1)</td>\n",
       "      <td>-79.605691</td>\n",
       "      <td>43.728929</td>\n",
       "      <td>5</td>\n",
       "    </tr>\n",
       "  </tbody>\n",
       "</table>\n",
       "</div>"
      ],
      "text/plain": [
       "              X             Y  Index_ event_unique_id Division  \\\n",
       "0 -8.862342e+06  5.424014e+06   40118   GO-2015910621      D23   \n",
       "1 -8.861463e+06  5.425856e+06   40344   GO-2015928800      D23   \n",
       "2 -8.857188e+06  5.420543e+06   40348   GO-2015929386      D23   \n",
       "3 -8.861665e+06  5.423589e+06   40371   GO-2015930623      D23   \n",
       "4 -8.861665e+06  5.423589e+06   40372   GO-2015930623      D23   \n",
       "\n",
       "           occurrencedate            reporteddate premises_type  ucr_code  \\\n",
       "0  2015/05/31 15:42:00+00  2015/05/31 15:42:00+00     Apartment      1420   \n",
       "1  2015/06/03 12:38:00+00  2015/06/03 12:39:00+00    Commercial      1420   \n",
       "2  2015/05/27 16:00:00+00  2015/06/03 14:11:00+00         Other      1430   \n",
       "3  2015/06/03 17:35:00+00  2015/06/03 17:37:00+00       Outside      1410   \n",
       "4  2015/06/03 17:35:00+00  2015/06/03 17:37:00+00       Outside      1420   \n",
       "\n",
       "   ucr_ext              offence  reportedyear reportedmonth  reportedday  \\\n",
       "0      100  Assault With Weapon          2015           May           31   \n",
       "1      100  Assault With Weapon          2015          June            3   \n",
       "2      100              Assault          2015          June            3   \n",
       "3      100   Aggravated Assault          2015          June            3   \n",
       "4      100  Assault With Weapon          2015          June            3   \n",
       "\n",
       "   reporteddayofyear reporteddayofweek  reportedhour  occurrenceyear  \\\n",
       "0                151            Sunday            15          2015.0   \n",
       "1                154         Wednesday            12          2015.0   \n",
       "2                154         Wednesday            14          2015.0   \n",
       "3                154         Wednesday            17          2015.0   \n",
       "4                154         Wednesday            17          2015.0   \n",
       "\n",
       "  occurrencemonth  occurrenceday  occurrencedayofyear occurrencedayofweek  \\\n",
       "0             May           31.0                151.0              Sunday   \n",
       "1            June            3.0                154.0           Wednesday   \n",
       "2             May           27.0                147.0           Wednesday   \n",
       "3            June            3.0                154.0           Wednesday   \n",
       "4            June            3.0                154.0           Wednesday   \n",
       "\n",
       "   occurrencehour      MCI Hood_ID               Neighbourhood       Long  \\\n",
       "0              15  Assault       1  West Humber-Clairville (1) -79.611774   \n",
       "1              12  Assault       1  West Humber-Clairville (1) -79.603876   \n",
       "2              16  Assault       1  West Humber-Clairville (1) -79.565476   \n",
       "3              17  Assault       1  West Humber-Clairville (1) -79.605691   \n",
       "4              17  Assault       1  West Humber-Clairville (1) -79.605691   \n",
       "\n",
       "         Lat  ObjectId  \n",
       "0  43.731689         1  \n",
       "1  43.743642         2  \n",
       "2  43.709154         3  \n",
       "3  43.728929         4  \n",
       "4  43.728929         5  "
      ]
     },
     "execution_count": 2,
     "metadata": {},
     "output_type": "execute_result"
    }
   ],
   "source": [
    "kept = ['offence', 'Neighbourhood', 'Long', 'Lat']\n",
    "data = pd.read_csv(\"data/Assault.csv\")\n",
    "data.head()"
   ]
  },
  {
   "cell_type": "code",
   "execution_count": 3,
   "id": "c969149c",
   "metadata": {},
   "outputs": [],
   "source": [
    "data = data[data['occurrenceyear']>=2017]\n",
    "# data = data[data.offence.str.contains('Assault')]\n",
    "data = data[~data.offence.str.contains(\"Weapon\")]"
   ]
  },
  {
   "cell_type": "code",
   "execution_count": 4,
   "id": "c4e3fa4d",
   "metadata": {
    "collapsed": true
   },
   "outputs": [
    {
     "data": {
      "text/html": [
       "<div>\n",
       "<style scoped>\n",
       "    .dataframe tbody tr th:only-of-type {\n",
       "        vertical-align: middle;\n",
       "    }\n",
       "\n",
       "    .dataframe tbody tr th {\n",
       "        vertical-align: top;\n",
       "    }\n",
       "\n",
       "    .dataframe thead th {\n",
       "        text-align: right;\n",
       "    }\n",
       "</style>\n",
       "<table border=\"1\" class=\"dataframe\">\n",
       "  <thead>\n",
       "    <tr style=\"text-align: right;\">\n",
       "      <th></th>\n",
       "      <th>offence</th>\n",
       "      <th>Neighbourhood</th>\n",
       "      <th>Long</th>\n",
       "      <th>Lat</th>\n",
       "    </tr>\n",
       "  </thead>\n",
       "  <tbody>\n",
       "    <tr>\n",
       "      <th>600</th>\n",
       "      <td>Assault</td>\n",
       "      <td>West Humber-Clairville (1)</td>\n",
       "      <td>-79.576355</td>\n",
       "      <td>43.731668</td>\n",
       "    </tr>\n",
       "    <tr>\n",
       "      <th>603</th>\n",
       "      <td>Assault</td>\n",
       "      <td>West Humber-Clairville (1)</td>\n",
       "      <td>-79.613307</td>\n",
       "      <td>43.732178</td>\n",
       "    </tr>\n",
       "    <tr>\n",
       "      <th>604</th>\n",
       "      <td>Aggravated Assault</td>\n",
       "      <td>West Humber-Clairville (1)</td>\n",
       "      <td>-79.599412</td>\n",
       "      <td>43.730910</td>\n",
       "    </tr>\n",
       "    <tr>\n",
       "      <th>608</th>\n",
       "      <td>Discharge Firearm With Intent</td>\n",
       "      <td>West Humber-Clairville (1)</td>\n",
       "      <td>-79.611774</td>\n",
       "      <td>43.731689</td>\n",
       "    </tr>\n",
       "    <tr>\n",
       "      <th>610</th>\n",
       "      <td>Discharge Firearm With Intent</td>\n",
       "      <td>West Humber-Clairville (1)</td>\n",
       "      <td>-79.611774</td>\n",
       "      <td>43.731689</td>\n",
       "    </tr>\n",
       "    <tr>\n",
       "      <th>...</th>\n",
       "      <td>...</td>\n",
       "      <td>...</td>\n",
       "      <td>...</td>\n",
       "      <td>...</td>\n",
       "    </tr>\n",
       "    <tr>\n",
       "      <th>130353</th>\n",
       "      <td>Assault</td>\n",
       "      <td>NSA</td>\n",
       "      <td>-79.115658</td>\n",
       "      <td>43.819531</td>\n",
       "    </tr>\n",
       "    <tr>\n",
       "      <th>130354</th>\n",
       "      <td>Assault</td>\n",
       "      <td>NSA</td>\n",
       "      <td>-79.235481</td>\n",
       "      <td>43.877722</td>\n",
       "    </tr>\n",
       "    <tr>\n",
       "      <th>130355</th>\n",
       "      <td>Assault</td>\n",
       "      <td>NSA</td>\n",
       "      <td>-79.656869</td>\n",
       "      <td>43.586366</td>\n",
       "    </tr>\n",
       "    <tr>\n",
       "      <th>130356</th>\n",
       "      <td>Assault</td>\n",
       "      <td>NSA</td>\n",
       "      <td>-78.894412</td>\n",
       "      <td>44.170111</td>\n",
       "    </tr>\n",
       "    <tr>\n",
       "      <th>130357</th>\n",
       "      <td>Assault</td>\n",
       "      <td>NSA</td>\n",
       "      <td>-79.516263</td>\n",
       "      <td>43.866940</td>\n",
       "    </tr>\n",
       "  </tbody>\n",
       "</table>\n",
       "<p>63389 rows × 4 columns</p>\n",
       "</div>"
      ],
      "text/plain": [
       "                              offence               Neighbourhood       Long  \\\n",
       "600                           Assault  West Humber-Clairville (1) -79.576355   \n",
       "603                           Assault  West Humber-Clairville (1) -79.613307   \n",
       "604                Aggravated Assault  West Humber-Clairville (1) -79.599412   \n",
       "608     Discharge Firearm With Intent  West Humber-Clairville (1) -79.611774   \n",
       "610     Discharge Firearm With Intent  West Humber-Clairville (1) -79.611774   \n",
       "...                               ...                         ...        ...   \n",
       "130353                        Assault                         NSA -79.115658   \n",
       "130354                        Assault                         NSA -79.235481   \n",
       "130355                        Assault                         NSA -79.656869   \n",
       "130356                        Assault                         NSA -78.894412   \n",
       "130357                        Assault                         NSA -79.516263   \n",
       "\n",
       "              Lat  \n",
       "600     43.731668  \n",
       "603     43.732178  \n",
       "604     43.730910  \n",
       "608     43.731689  \n",
       "610     43.731689  \n",
       "...           ...  \n",
       "130353  43.819531  \n",
       "130354  43.877722  \n",
       "130355  43.586366  \n",
       "130356  44.170111  \n",
       "130357  43.866940  \n",
       "\n",
       "[63389 rows x 4 columns]"
      ]
     },
     "execution_count": 4,
     "metadata": {},
     "output_type": "execute_result"
    }
   ],
   "source": [
    "finals = data.loc[:, kept]\n",
    "finals"
   ]
  },
  {
   "cell_type": "code",
   "execution_count": 5,
   "id": "39e7030f",
   "metadata": {
    "collapsed": true
   },
   "outputs": [
    {
     "data": {
      "text/plain": [
       "array(['Assault', 'Aggravated Assault', 'Discharge Firearm With Intent',\n",
       "       'Assault Bodily Harm', 'Pointing A Firearm',\n",
       "       'Assault - Resist/ Prevent Seiz', 'Use Firearm / Immit Commit Off',\n",
       "       'Discharge Firearm - Recklessly', 'Assault Peace Officer',\n",
       "       'Administering Noxious Thing', 'Assault - Force/Thrt/Impede',\n",
       "       'Assault Peace Officer Wpn/Cbh', 'Disarming Peace/Public Officer',\n",
       "       'Crim Negligence Bodily Harm', 'Air Gun Or Pistol: Bodily Harm',\n",
       "       'Aggravated Aslt Peace Officer', 'Unlawfully Causing Bodily Harm',\n",
       "       'Aggravated Assault Avails Pros', 'Set/Place Trap/Intend Death/Bh'],\n",
       "      dtype=object)"
      ]
     },
     "execution_count": 5,
     "metadata": {},
     "output_type": "execute_result"
    }
   ],
   "source": [
    "finals.offence.unique()"
   ]
  },
  {
   "cell_type": "code",
   "execution_count": 6,
   "id": "ee0fd4f4",
   "metadata": {
    "collapsed": true
   },
   "outputs": [
    {
     "data": {
      "text/plain": [
       "array(['Assault', 'Aggravated Assault', 'Assault Bodily Harm',\n",
       "       'Assault - Resist/ Prevent Seiz', 'Assault - Force/Thrt/Impede',\n",
       "       'Crim Negligence Bodily Harm', 'Unlawfully Causing Bodily Harm'],\n",
       "      dtype=object)"
      ]
     },
     "execution_count": 6,
     "metadata": {},
     "output_type": "execute_result"
    }
   ],
   "source": [
    "fin = finals.loc[finals['offence'].isin(['Assault', 'Aggravated Assault','Assault Bodily Harm','Assault - Resist/ Prevent Seiz','Assault - Force/Thrt/Impede','Crim Negligence Bodily Harm','Unlawfully Causing Bodily Harm'])]\n",
    "fin.offence.unique()"
   ]
  },
  {
   "cell_type": "code",
   "execution_count": 7,
   "id": "d55f3bf8",
   "metadata": {
    "collapsed": true
   },
   "outputs": [
    {
     "name": "stdout",
     "output_type": "stream",
     "text": [
      "<class 'pandas.core.frame.DataFrame'>\n",
      "Int64Index: 57645 entries, 600 to 130357\n",
      "Data columns (total 4 columns):\n",
      " #   Column         Non-Null Count  Dtype  \n",
      "---  ------         --------------  -----  \n",
      " 0   offence        57645 non-null  object \n",
      " 1   Neighbourhood  57645 non-null  object \n",
      " 2   Long           57645 non-null  float64\n",
      " 3   Lat            57645 non-null  float64\n",
      "dtypes: float64(2), object(2)\n",
      "memory usage: 2.2+ MB\n"
     ]
    }
   ],
   "source": [
    "fin.info()"
   ]
  },
  {
   "cell_type": "code",
   "execution_count": 8,
   "id": "08beba68",
   "metadata": {
    "collapsed": true
   },
   "outputs": [
    {
     "data": {
      "image/png": "[encoded data removed]",
      "text/plain": [
       "<Figure size 432x288 with 2 Axes>"
      ]
     },
     "metadata": {
      "needs_background": "light"
     },
     "output_type": "display_data"
    }
   ],
   "source": [
    "plt.scatter(fin['Lat'], fin['Long'])\n",
    "plt.colorbar()\n",
    "plt.show()"
   ]
  },
  {
   "cell_type": "code",
   "execution_count": 9,
   "id": "d872b041",
   "metadata": {},
   "outputs": [],
   "source": [
    "latlong = fin[['Lat', 'Long']]"
   ]
  },
  {
   "cell_type": "code",
   "execution_count": 10,
   "id": "b8c6a24c",
   "metadata": {},
   "outputs": [],
   "source": [
    "latlong.to_csv(\"data/assault_lat_long.csv\", index=False, header=False)"
   ]
  },
  {
   "cell_type": "markdown",
   "id": "59f0fc90",
   "metadata": {},
   "source": [
    "---"
   ]
  },
  {
   "cell_type": "code",
   "execution_count": 11,
   "id": "2565778b",
   "metadata": {},
   "outputs": [],
   "source": []
  },
  {
   "cell_type": "code",
   "execution_count": 12,
   "id": "a02abe62",
   "metadata": {},
   "outputs": [],
   "source": []
  },
  {
   "cell_type": "code",
   "execution_count": 62,
   "id": "f775512d",
   "metadata": {},
   "outputs": [
    {
     "name": "stderr",
     "output_type": "stream",
     "text": [
      "21/09/19 02:02:54 WARN NativeCodeLoader: Unable to load native-hadoop library for your platform... using builtin-java classes where applicable\n",
      "Using Spark's default log4j profile: org/apache/spark/log4j-defaults.properties\n",
      "Setting default log level to \"WARN\".\n",
      "To adjust logging level use sc.setLogLevel(newLevel). For SparkR, use setLogLevel(newLevel).\n"
     ]
    }
   ],
   "source": [
    "from pyspark import SparkContext\n",
    "sc = SparkContext()"
   ]
  },
  {
   "cell_type": "code",
   "execution_count": 63,
   "id": "e387dfc3",
   "metadata": {},
   "outputs": [],
   "source": [
    "from pyspark.mllib.clustering import GaussianMixture"
   ]
  },
  {
   "cell_type": "code",
   "execution_count": 64,
   "id": "e0d5dcc7",
   "metadata": {},
   "outputs": [],
   "source": [
    "data = sc.textFile(\"./data/assault_lat_long.csv\")"
   ]
  },
  {
   "cell_type": "code",
   "execution_count": 65,
   "id": "4d6b6cc5",
   "metadata": {},
   "outputs": [],
   "source": [
    "parsed = data.map(lambda line: np.array([float(x) for x in line.strip().split(',')]))\n",
    "l=6"
   ]
  },
  {
   "cell_type": "code",
   "execution_count": 66,
   "id": "71bca264",
   "metadata": {},
   "outputs": [
    {
     "name": "stderr",
     "output_type": "stream",
     "text": [
      "21/09/19 02:03:01 WARN LAPACK: Failed to load implementation from: com.github.fommil.netlib.NativeSystemLAPACK\n",
      "21/09/19 02:03:01 WARN LAPACK: Failed to load implementation from: com.github.fommil.netlib.NativeRefLAPACK\n",
      "21/09/19 02:03:01 WARN BLAS: Failed to load implementation from: com.github.fommil.netlib.NativeSystemBLAS\n",
      "21/09/19 02:03:01 WARN BLAS: Failed to load implementation from: com.github.fommil.netlib.NativeRefBLAS\n"
     ]
    }
   ],
   "source": [
    "gmm = GaussianMixture.tra(parsed, l)"
   ]
  },
  {
   "cell_type": "code",
   "execution_count": 69,
   "id": "fa84bd38",
   "metadata": {},
   "outputs": [],
   "source": [
    "for j in range(0,l):\n",
    "    with open(f\"./models/gmm_{j}.txt\", 'w') as f:\n",
    "        f.write(str(gmm.weights[j])+\"\\n\")\n",
    "        f.write(str(gmm.gaussians[j].mu) + \"\\n\")\n",
    "        f.write(str(gmm.gaussians[j].sigma.toArray())+'\\n')"
   ]
  },
  {
   "cell_type": "code",
   "execution_count": 72,
   "id": "7d3ce2e7",
   "metadata": {},
   "outputs": [
    {
     "name": "stdout",
     "output_type": "stream",
     "text": [
      "0.17388597327363656\r\n",
      "[43.70529930597177,-79.49724923503747]\r\n",
      "[[0.00149265 0.00037961]\r\n",
      " [0.00037961 0.00278214]]\r\n"
     ]
    }
   ],
   "source": [
    "!cat ./models/gmm_1.txt"
   ]
  },
  {
   "cell_type": "code",
   "execution_count": null,
   "id": "a08f3df6",
   "metadata": {},
   "outputs": [],
   "source": [
    "from sklearn.preprocessing import StandardScaler\n",
    "\n",
    "sc_X = StandardScaler()\n",
    "X = sc_X.fit_transform(df.values)"
   ]
  },
  {
   "cell_type": "code",
   "execution_count": null,
   "id": "bcae1e9b",
   "metadata": {},
   "outputs": [],
   "source": [
    "# Using the elbow method to find the optimal number of clusters\n",
    "from sklearn.cluster import KMeans\n",
    "wcss = []\n",
    "for i in range(1, 10):\n",
    "    kmeans = KMeans(n_clusters = i, init = 'k-means++', random_state = 42)\n",
    "    kmeans.fit(X)\n",
    "    wcss.append(kmeans.inertia_)\n",
    "plt.plot(range(1, 10), wcss)\n",
    "plt.title('The Elbow Method')\n",
    "plt.xlabel('Number of clusters')\n",
    "plt.ylabel('WCSS')\n",
    "plt.show()"
   ]
  },
  {
   "cell_type": "code",
   "execution_count": null,
   "id": "39f8258a",
   "metadata": {},
   "outputs": [],
   "source": [
    "# Fitting K-Means to the dataset\n",
    "kmeans = KMeans(n_clusters = 3, init = 'k-means++', random_state = 42)\n",
    "y_kmeans = kmeans.fit_predict(X)\n",
    "\n",
    "joblib.dump(kmeans, \"models/kmeans.pkl\")"
   ]
  },
  {
   "cell_type": "code",
   "execution_count": null,
   "id": "ebebc00d",
   "metadata": {},
   "outputs": [],
   "source": []
  },
  {
   "cell_type": "code",
   "execution_count": null,
   "id": "d8eb771a",
   "metadata": {},
   "outputs": [],
   "source": []
  },
  {
   "cell_type": "code",
   "execution_count": 52,
   "id": "f3d80152",
   "metadata": {},
   "outputs": [],
   "source": []
  },
  {
   "cell_type": "code",
   "execution_count": null,
   "id": "5af381ee",
   "metadata": {},
   "outputs": [],
   "source": []
  },
  {
   "cell_type": "code",
   "execution_count": null,
   "id": "d4054669",
   "metadata": {},
   "outputs": [],
   "source": [
    "figs"
   ]
  },
  {
   "cell_type": "code",
   "execution_count": null,
   "id": "5fe422f5",
   "metadata": {},
   "outputs": [],
   "source": [
    "from sklearn.decomposition import KernelPCA\n",
    "kpca = KernelPCA(n_components = 2, kernel = 'rbf')\n",
    "X = kpca.fit_transform(X)"
   ]
  },
  {
   "cell_type": "code",
   "execution_count": null,
   "id": "cccb35d1",
   "metadata": {},
   "outputs": [],
   "source": [
    "plt.scatter(X[y_kmeans == 0, 0], X[y_kmeans == 0, 1], s = 100, c = 'red')\n",
    "plt.scatter(X[y_kmeans == 1, 0], X[y_kmeans == 1, 1], s = 100, c = 'blue')\n",
    "plt.scatter(X[y_kmeans == 2, 0], X[y_kmeans == 2, 1], s = 100, c = 'green')\n",
    "plt.scatter(X[y_kmeans == 3, 0], X[y_kmeans == 3, 1], s = 100, c = 'cyan')\n",
    "plt.scatter(X[y_kmeans == 4, 0], X[y_kmeans == 4, 1], s = 100, c = 'magenta' )\n",
    "plt.scatter(X[y_kmeans == 5, 0], X[y_kmeans == 5, 1], s = 100, c = 'black' )\n",
    "\n",
    "\n",
    "\n",
    "plt.scatter(kmeans.cluster_centers_[:, 0], kmeans.cluster_centers_[:, 1], s = 300, c = 'yellow', label = 'Centroids')\n",
    "plt.title('Clusters of areas')\n",
    "plt.xlabel('factor1')\n",
    "plt.ylabel('factor2')\n",
    "plt.legend()\n",
    "plt.show()"
   ]
  },
  {
   "cell_type": "code",
   "execution_count": 2,
   "id": "daf8b113",
   "metadata": {},
   "outputs": [],
   "source": []
  },
  {
   "cell_type": "code",
   "execution_count": null,
   "id": "01a03dcf",
   "metadata": {},
   "outputs": [],
   "source": []
  }
 ],
 "metadata": {
  "kernelspec": {
   "display_name": "Python 3 (ipykernel)",
   "language": "python",
   "name": "python3"
  },
  "language_info": {
   "codemirror_mode": {
    "name": "ipython",
    "version": 3
   },
   "file_extension": ".py",
   "mimetype": "text/x-python",
   "name": "python",
   "nbconvert_exporter": "python",
   "pygments_lexer": "ipython3",
   "version": "3.8.8"
  }
 },
 "nbformat": 4,
 "nbformat_minor": 5
}
